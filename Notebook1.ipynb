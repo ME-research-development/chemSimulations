{
 "cells": [
  {
   "cell_type": "markdown",
   "id": "838609ac-6868-4eb7-92de-03f74174a6b3",
   "metadata": {
    "tags": []
   },
   "source": [
    "# Introduction to chemical modeling and simulation\n",
    "One of my the things that get my atettion is how we can simulate things on a computer? Is any limite on what can we simulate?     \n",
    "The first limite I encouterd was the computing resources, even the simplest model can't rune forever.    \n",
    "Second was the complexity of the model, for model understand the mathematical equations that trys to capture the physical meaning of your phenomena.    \n",
    "There are a lot of models and they ten to be more complex the more you want to acuratley simulate the reallity.   \n",
    "\n",
    "This series (I guess) will be my intent on learning how to simulate chemical reactions, my attention is in a thing called methanogenesis or the process where some type of bacteria can create methane by degrading some material, its like photosintesis but more boring, but it has a lot of practial and industrial applications, Imagine a city that can produce a certain amount of energy by burning the methane created by this method, also it thas the advantge that the things that bacteria consume are primaly organic mather for example waste water or wast for some industrial process like farm or something like that.\n",
    "\n",
    "Well the things I will learn with all of this will be a lot of headaches and maybe fun times coding.   \n",
    "\n",
    "One of the first things I cant simulate is the combustion of methane, I have to search for the following:     \n",
    "* Models for methane combustion\n",
    "\t* what do they capture, temp, mass consumption, energy liberated, force of the combustion? \n",
    "* Combustion in general of other things, like rocket fuell or diesel\n",
    "\t* aproppiate numerical methods for all of this models\n",
    "* I can simulate the combustion of rocket fuel and the efficiency of some type of reaction, for example given a paylode find the best mixture for some operations conditions, for example, cost, lightweigt, simplicity or temperature operation\n",
    "* Also investigate how do chemkin-pro relates with all of these, can I use comsol for some part of the process?\n",
    "\n"
   ]
  },
  {
   "cell_type": "code",
   "execution_count": null,
   "id": "1357348e-ff22-4b5c-b939-f62dc0398510",
   "metadata": {},
   "outputs": [],
   "source": []
  }
 ],
 "metadata": {
  "kernelspec": {
   "display_name": "Python 3 (ipykernel)",
   "language": "python",
   "name": "python3"
  },
  "language_info": {
   "codemirror_mode": {
    "name": "ipython",
    "version": 3
   },
   "file_extension": ".py",
   "mimetype": "text/x-python",
   "name": "python",
   "nbconvert_exporter": "python",
   "pygments_lexer": "ipython3",
   "version": "3.8.10"
  }
 },
 "nbformat": 4,
 "nbformat_minor": 5
}
